{
  "nbformat": 4,
  "nbformat_minor": 0,
  "metadata": {
    "colab": {
      "name": "Quality_control.ipynb",
      "provenance": [],
      "collapsed_sections": []
    },
    "kernelspec": {
      "name": "python3",
      "display_name": "Python 3"
    },
    "language_info": {
      "name": "python"
    }
  },
  "cells": [
    {
      "cell_type": "markdown",
      "metadata": {
        "id": "wf5xbZgdzwHS"
      },
      "source": [
        "## Modelo de Controle de Qualidade\n",
        "\n",
        "#### Modelo de classificação de imagens que tem como objetivo classificar fotos de peças fundidas entre sem defeito e defeituosa. Os defeitos podem ser buracos, bolhas, rebarbas, dimensões incorretas, trincas e etc. O banco de imagens possui 7348 imagens com tamanho de 300*300 pixels em tons de cinza. Elas foram divididas entre treino e teste com 6633 e 715 imagens respectivamente. Para realizar a classificação, foi utilizada uma rede neural convolucional."
      ]
    },
    {
      "cell_type": "code",
      "metadata": {
        "id": "kuVjoHAP0puC"
      },
      "source": [
        "from matplotlib import pyplot as plt"
      ],
      "execution_count": 1,
      "outputs": []
    },
    {
      "cell_type": "code",
      "metadata": {
        "id": "sTnN1bohm4V_"
      },
      "source": [
        "import numpy as np"
      ],
      "execution_count": 2,
      "outputs": []
    },
    {
      "cell_type": "code",
      "metadata": {
        "id": "ogYCrrAVm99_"
      },
      "source": [
        "from PIL import Image"
      ],
      "execution_count": 3,
      "outputs": []
    },
    {
      "cell_type": "code",
      "metadata": {
        "id": "tEr5CvCunSzX"
      },
      "source": [
        "import os"
      ],
      "execution_count": 4,
      "outputs": []
    },
    {
      "cell_type": "code",
      "metadata": {
        "id": "F7VIfI1VoI3A"
      },
      "source": [
        "import cv2"
      ],
      "execution_count": 5,
      "outputs": []
    },
    {
      "cell_type": "code",
      "metadata": {
        "id": "2j8UetwToN6P"
      },
      "source": [
        "from google.colab.patches import cv2_imshow"
      ],
      "execution_count": 6,
      "outputs": []
    },
    {
      "cell_type": "code",
      "metadata": {
        "id": "q7gpwxWJtNQK"
      },
      "source": [
        "import random"
      ],
      "execution_count": 7,
      "outputs": []
    },
    {
      "cell_type": "code",
      "metadata": {
        "id": "lmRq859B_eax"
      },
      "source": [
        "import keras"
      ],
      "execution_count": 8,
      "outputs": []
    },
    {
      "cell_type": "code",
      "metadata": {
        "id": "b5tdJ4pe-RXg"
      },
      "source": [
        "from keras import models\n",
        "from keras import layers"
      ],
      "execution_count": 9,
      "outputs": []
    },
    {
      "cell_type": "code",
      "metadata": {
        "id": "dAvhLI_y-YUj"
      },
      "source": [
        "from tensorflow.keras.layers import Activation, Dropout, Flatten, Dense, Conv2D, MaxPooling2D"
      ],
      "execution_count": 10,
      "outputs": []
    },
    {
      "cell_type": "markdown",
      "metadata": {
        "id": "IF_YoSnZv2Rq"
      },
      "source": [
        "Estabelecimento da conexão com o Drive"
      ]
    },
    {
      "cell_type": "code",
      "metadata": {
        "colab": {
          "base_uri": "https://localhost:8080/"
        },
        "id": "WL8Z4X-_EL10",
        "outputId": "bb8eb9b6-d956-4de9-bc6a-1725a5d09075"
      },
      "source": [
        "from google.colab import drive\n",
        "drive.mount('/content/drive')"
      ],
      "execution_count": null,
      "outputs": [
        {
          "output_type": "stream",
          "text": [
            "Mounted at /content/drive\n"
          ],
          "name": "stdout"
        }
      ]
    },
    {
      "cell_type": "code",
      "metadata": {
        "colab": {
          "base_uri": "https://localhost:8080/",
          "height": 35
        },
        "id": "AgfTX8VNnbMX",
        "outputId": "7868d24b-eb90-4478-926a-5fc465cc239e"
      },
      "source": [
        "pwd"
      ],
      "execution_count": 11,
      "outputs": [
        {
          "output_type": "execute_result",
          "data": {
            "application/vnd.google.colaboratory.intrinsic+json": {
              "type": "string"
            },
            "text/plain": [
              "'/content'"
            ]
          },
          "metadata": {
            "tags": []
          },
          "execution_count": 11
        }
      ]
    },
    {
      "cell_type": "markdown",
      "metadata": {
        "id": "HvKMwegy1Tj9"
      },
      "source": [
        "Exibição de um exemplo de imagem da peça defeituosa."
      ]
    },
    {
      "cell_type": "code",
      "metadata": {
        "id": "n5yS7YD9H2nn"
      },
      "source": [
        "im = Image.open('/content/drive/MyDrive/Data/train/def_front/cast_def_0_0.jpeg')"
      ],
      "execution_count": 12,
      "outputs": []
    },
    {
      "cell_type": "code",
      "metadata": {
        "colab": {
          "base_uri": "https://localhost:8080/"
        },
        "id": "WHoM-KzPISPQ",
        "outputId": "7a00beb2-aed9-462a-fdbc-63519d5bbb64"
      },
      "source": [
        "im.size"
      ],
      "execution_count": 13,
      "outputs": [
        {
          "output_type": "execute_result",
          "data": {
            "text/plain": [
              "(300, 300)"
            ]
          },
          "metadata": {
            "tags": []
          },
          "execution_count": 13
        }
      ]
    },
    {
      "cell_type": "code",
      "metadata": {
        "colab": {
          "base_uri": "https://localhost:8080/",
          "height": 286
        },
        "id": "zvVN2PJVr5Vw",
        "outputId": "dee04327-cf86-4575-b46b-7a3ab29d5213"
      },
      "source": [
        "plt.imshow(im, cmap='gray', interpolation='none')"
      ],
      "execution_count": 14,
      "outputs": [
        {
          "output_type": "execute_result",
          "data": {
            "text/plain": [
              "<matplotlib.image.AxesImage at 0x7f4e1ce87490>"
            ]
          },
          "metadata": {
            "tags": []
          },
          "execution_count": 14
        },
        {
          "output_type": "display_data",
          "data": {
            "image/png": "[encoded data removed]",
            "text/plain": [
              "<Figure size 432x288 with 1 Axes>"
            ]
          },
          "metadata": {
            "tags": [],
            "needs_background": "light"
          }
        }
      ]
    },
    {
      "cell_type": "markdown",
      "metadata": {
        "id": "HjWuTX1Z16V9"
      },
      "source": [
        "###Extração dos pixels das imagens.\n",
        "\n",
        "As imagens estão divididas em quatro pastas: treino defeituosa com 3758 imagens, treino sem defeito com 2875 imagens, teste defeituosa com 453 imagens e teste sem defeito com 262 imagens."
      ]
    },
    {
      "cell_type": "code",
      "metadata": {
        "colab": {
          "base_uri": "https://localhost:8080/"
        },
        "id": "mwf2IHHh31nk",
        "outputId": "edeb6188-a935-4c41-bba4-5fc19cc49c45"
      },
      "source": [
        "list_tr_df = os.listdir('/content/drive/MyDrive/Data/train/def_front')\n",
        "number_files_tr_df = len(list_tr_df)\n",
        "print(number_files_tr_df)"
      ],
      "execution_count": 15,
      "outputs": [
        {
          "output_type": "stream",
          "text": [
            "3758\n"
          ],
          "name": "stdout"
        }
      ]
    },
    {
      "cell_type": "code",
      "metadata": {
        "colab": {
          "base_uri": "https://localhost:8080/"
        },
        "id": "Sl7UBiIknQ-_",
        "outputId": "504df520-ce6d-4ad6-80fa-5fb6379a57e5"
      },
      "source": [
        "list_tr_ok = os.listdir('/content/drive/MyDrive/Data/train/ok_front')\n",
        "number_files_tr_ok = len(list_tr_ok)\n",
        "print(number_files_tr_ok)"
      ],
      "execution_count": 16,
      "outputs": [
        {
          "output_type": "stream",
          "text": [
            "2875\n"
          ],
          "name": "stdout"
        }
      ]
    },
    {
      "cell_type": "markdown",
      "metadata": {
        "id": "CsIZ-TlA3Fge"
      },
      "source": [
        "Redimensionamento das imagens(64*64 pixels) da pasta treino defeituosa, extração dos pixels e criação dos tensores."
      ]
    },
    {
      "cell_type": "code",
      "metadata": {
        "id": "D63q54EGyHRC"
      },
      "source": [
        "train_def_list=[]\n",
        "for subdirs, dirs, files in os.walk('/content/drive/MyDrive/Data/train/def_front'):\n",
        "  for filename in files:\n",
        "    filepath = subdirs+os.sep+filename\n",
        "    i=Image.open(filepath)\n",
        "    ii=i.resize((64,64))\n",
        "    u=np.array((ii).getdata())\n",
        "    for k in range(len(u)):\n",
        "      for l in range(len(u[k])):\n",
        "        x=np.unique(u[k])\n",
        "      train_def_list.append(x)\n",
        "train_def_array=np.array(train_def_list)\n",
        "train_def_array=train_def_array.reshape(number_files_tr_df,64,64,1)"
      ],
      "execution_count": 17,
      "outputs": []
    },
    {
      "cell_type": "code",
      "metadata": {
        "colab": {
          "base_uri": "https://localhost:8080/"
        },
        "id": "7vfzwxoNmfZG",
        "outputId": "a2a5bdcc-3881-4d51-8f4f-5a2f29f9cf8f"
      },
      "source": [
        "train_def_array.shape"
      ],
      "execution_count": 18,
      "outputs": [
        {
          "output_type": "execute_result",
          "data": {
            "text/plain": [
              "(3758, 64, 64, 1)"
            ]
          },
          "metadata": {
            "tags": []
          },
          "execution_count": 18
        }
      ]
    },
    {
      "cell_type": "markdown",
      "metadata": {
        "id": "S1W2p67Z5Adv"
      },
      "source": [
        "\n",
        "Redimensionamento das imagens(64*64 pixels) da pasta treino sem defeito, extração dos pixels e criação dos tensores.\n"
      ]
    },
    {
      "cell_type": "code",
      "metadata": {
        "id": "Rk5ST5iWlkrg"
      },
      "source": [
        "train_ok_list=[]\n",
        "for subdirs, dirs, files in os.walk('/content/drive/MyDrive/Data/train/ok_front'):\n",
        "  for filename in files:\n",
        "    filepath = subdirs+os.sep+filename\n",
        "    i=Image.open(filepath)\n",
        "    ii=i.resize((64,64))\n",
        "    u=np.array((ii).getdata())\n",
        "    for k in range(len(u)):\n",
        "      for l in range(len(u[k])):\n",
        "        x=np.unique(u[k])\n",
        "      train_ok_list.append(x)\n",
        "train_ok_array=np.array(train_ok_list)\n",
        "train_ok_array=train_ok_array.reshape(number_files_tr_ok,64,64,1)"
      ],
      "execution_count": 19,
      "outputs": []
    },
    {
      "cell_type": "code",
      "metadata": {
        "colab": {
          "base_uri": "https://localhost:8080/"
        },
        "id": "YjX7yoCinvzx",
        "outputId": "6f9a653d-c776-4e93-b4be-6357b08ffef1"
      },
      "source": [
        "train_ok_array.shape"
      ],
      "execution_count": 20,
      "outputs": [
        {
          "output_type": "execute_result",
          "data": {
            "text/plain": [
              "(2875, 64, 64, 1)"
            ]
          },
          "metadata": {
            "tags": []
          },
          "execution_count": 20
        }
      ]
    },
    {
      "cell_type": "markdown",
      "metadata": {
        "id": "_-FiawK25KAh"
      },
      "source": [
        "Criação dos arrays com os labels das imagens de treino.\n",
        "### 1 para defeituosa\n",
        "### 0 para sem defeito"
      ]
    },
    {
      "cell_type": "code",
      "metadata": {
        "id": "fkiSe4RivXUy"
      },
      "source": [
        "train_def_labels=np.ones(number_files_tr_df,dtype=np.int64)"
      ],
      "execution_count": 21,
      "outputs": []
    },
    {
      "cell_type": "code",
      "metadata": {
        "colab": {
          "base_uri": "https://localhost:8080/"
        },
        "id": "8R3Ajztr5sBt",
        "outputId": "75af734b-1603-4bc3-c324-a52411cb56d8"
      },
      "source": [
        "train_def_labels.shape"
      ],
      "execution_count": 22,
      "outputs": [
        {
          "output_type": "execute_result",
          "data": {
            "text/plain": [
              "(3758,)"
            ]
          },
          "metadata": {
            "tags": []
          },
          "execution_count": 22
        }
      ]
    },
    {
      "cell_type": "code",
      "metadata": {
        "id": "9VFECCKd556V"
      },
      "source": [
        "train_ok_labels=np.zeros(number_files_tr_ok,dtype=np.int64)"
      ],
      "execution_count": 23,
      "outputs": []
    },
    {
      "cell_type": "code",
      "metadata": {
        "colab": {
          "base_uri": "https://localhost:8080/"
        },
        "id": "ztrCvoFY6FMT",
        "outputId": "16599454-ca09-4b47-f1e5-7831faec6519"
      },
      "source": [
        "train_ok_labels.shape"
      ],
      "execution_count": 24,
      "outputs": [
        {
          "output_type": "execute_result",
          "data": {
            "text/plain": [
              "(2875,)"
            ]
          },
          "metadata": {
            "tags": []
          },
          "execution_count": 24
        }
      ]
    },
    {
      "cell_type": "markdown",
      "metadata": {
        "id": "k2qWx54k5ukX"
      },
      "source": [
        "Junção e mistura das imagens de treino defeituosas e sem defeitos."
      ]
    },
    {
      "cell_type": "code",
      "metadata": {
        "colab": {
          "base_uri": "https://localhost:8080/"
        },
        "id": "z5Bvrk4BsLUR",
        "outputId": "d3a32b77-cb53-4063-ae8a-0650dd4c8d9a"
      },
      "source": [
        "train_def_l=train_def_array.tolist()\n",
        "train_ok_l=train_ok_array.tolist()\n",
        "train_l=train_def_l+train_ok_l\n",
        "random.seed(1234)\n",
        "random.shuffle(train_l)\n",
        "train_array=np.array(train_l)\n",
        "print(train_array.shape)"
      ],
      "execution_count": 25,
      "outputs": [
        {
          "output_type": "stream",
          "text": [
            "(6633, 64, 64, 1)\n"
          ],
          "name": "stdout"
        }
      ]
    },
    {
      "cell_type": "markdown",
      "metadata": {
        "id": "m7U4GFRS6FsF"
      },
      "source": [
        "Junção e mistura dos labels das imagens de treino defeituosas e sem defeitos."
      ]
    },
    {
      "cell_type": "code",
      "metadata": {
        "colab": {
          "base_uri": "https://localhost:8080/"
        },
        "id": "4qgaczLv63XW",
        "outputId": "7bf6c20e-6f83-4bd4-8208-e0f95155a14c"
      },
      "source": [
        "train_def_labels_l=train_def_labels.tolist()\n",
        "train_ok_labels_l=train_ok_labels.tolist()\n",
        "train_labels_l=train_def_labels_l+train_ok_labels_l\n",
        "random.seed(1234)\n",
        "random.shuffle(train_labels_l)\n",
        "train_labels_array=np.array(train_labels_l)\n",
        "print(train_labels_array.shape)"
      ],
      "execution_count": 26,
      "outputs": [
        {
          "output_type": "stream",
          "text": [
            "(6633,)\n"
          ],
          "name": "stdout"
        }
      ]
    },
    {
      "cell_type": "markdown",
      "metadata": {
        "id": "x665VCyE6T8I"
      },
      "source": [
        "Exibição de uma imagem do tensor de treino(conferência)"
      ]
    },
    {
      "cell_type": "code",
      "metadata": {
        "colab": {
          "base_uri": "https://localhost:8080/",
          "height": 285
        },
        "id": "muIaYznfDzme",
        "outputId": "fdca70be-8eb3-460e-894b-4d5355fd18f1"
      },
      "source": [
        "lb=0\n",
        "train_array_d=train_array.reshape(6633,64,64)\n",
        "plt.imshow(train_array_d[lb], cmap='gray', interpolation='none')\n",
        "print('LABEL:'+str(train_labels_array[lb]))"
      ],
      "execution_count": 27,
      "outputs": [
        {
          "output_type": "stream",
          "text": [
            "LABEL:1\n"
          ],
          "name": "stdout"
        },
        {
          "output_type": "display_data",
          "data": {
            "image/png": "[encoded data removed]",
            "text/plain": [
              "<Figure size 432x288 with 1 Axes>"
            ]
          },
          "metadata": {
            "tags": [],
            "needs_background": "light"
          }
        }
      ]
    },
    {
      "cell_type": "code",
      "metadata": {
        "colab": {
          "base_uri": "https://localhost:8080/"
        },
        "id": "xNkqURgwWlTL",
        "outputId": "631509d3-0cbd-4295-d37f-e9f11a1a083e"
      },
      "source": [
        "list_ts_df = os.listdir('/content/drive/MyDrive/Data/test/def_front')\n",
        "number_files_ts_df = len(list_ts_df)\n",
        "print(number_files_ts_df)"
      ],
      "execution_count": 28,
      "outputs": [
        {
          "output_type": "stream",
          "text": [
            "453\n"
          ],
          "name": "stdout"
        }
      ]
    },
    {
      "cell_type": "code",
      "metadata": {
        "colab": {
          "base_uri": "https://localhost:8080/"
        },
        "id": "ZItgwWzLW0UD",
        "outputId": "c6172235-9253-47ab-f7b8-41026070eacc"
      },
      "source": [
        "list_ts_ok = os.listdir('/content/drive/MyDrive/Data/test/ok_front')\n",
        "number_files_ts_ok = len(list_ts_ok)\n",
        "print(number_files_ts_ok)"
      ],
      "execution_count": 29,
      "outputs": [
        {
          "output_type": "stream",
          "text": [
            "262\n"
          ],
          "name": "stdout"
        }
      ]
    },
    {
      "cell_type": "markdown",
      "metadata": {
        "id": "H1ZCG6Ef9Dbp"
      },
      "source": [
        "Redimensionamento das imagens(64*64 pixels) da pasta teste sem defeito, extração dos pixels e criação dos tensores."
      ]
    },
    {
      "cell_type": "code",
      "metadata": {
        "id": "Pfil4vZaXDH0"
      },
      "source": [
        "test_def_list=[]\n",
        "for subdirs, dirs, files in os.walk('/content/drive/MyDrive/Data/test/def_front'):\n",
        "  for filename in files:\n",
        "    filepath = subdirs+os.sep+filename\n",
        "    i=Image.open(filepath)\n",
        "    ii=i.resize((64,64))\n",
        "    u=np.array((ii).getdata())\n",
        "    for k in range(len(u)):\n",
        "      for l in range(len(u[k])):\n",
        "        x=np.unique(u[k])\n",
        "      test_def_list.append(x)\n",
        "test_def_array=np.array(test_def_list)\n",
        "test_def_array=test_def_array.reshape(number_files_ts_df,64,64,1)"
      ],
      "execution_count": 30,
      "outputs": []
    },
    {
      "cell_type": "code",
      "metadata": {
        "colab": {
          "base_uri": "https://localhost:8080/"
        },
        "id": "ojoAXXj-XDS8",
        "outputId": "fa87212c-8f76-438f-b614-24931c2e80bf"
      },
      "source": [
        "test_def_array.shape"
      ],
      "execution_count": 31,
      "outputs": [
        {
          "output_type": "execute_result",
          "data": {
            "text/plain": [
              "(453, 64, 64, 1)"
            ]
          },
          "metadata": {
            "tags": []
          },
          "execution_count": 31
        }
      ]
    },
    {
      "cell_type": "markdown",
      "metadata": {
        "id": "7FFqfFoX9Jff"
      },
      "source": [
        "Redimensionamento das imagens(64*64 pixels) da pasta teste sem defeito, extração dos pixels e criação dos tensores."
      ]
    },
    {
      "cell_type": "code",
      "metadata": {
        "id": "l29yr_EFX656"
      },
      "source": [
        "test_ok_list=[]\n",
        "for subdirs, dirs, files in os.walk('/content/drive/MyDrive/Data/test/ok_front'):\n",
        "  for filename in files:\n",
        "    filepath = subdirs+os.sep+filename\n",
        "    i=Image.open(filepath)\n",
        "    ii=i.resize((64,64))\n",
        "    u=np.array((ii).getdata())\n",
        "    for k in range(len(u)):\n",
        "      for l in range(len(u[k])):\n",
        "        x=np.unique(u[k])\n",
        "      test_ok_list.append(x)\n",
        "test_ok_array=np.array(test_ok_list)\n",
        "test_ok_array=test_ok_array.reshape(number_files_ts_ok,64,64,1)"
      ],
      "execution_count": 32,
      "outputs": []
    },
    {
      "cell_type": "code",
      "metadata": {
        "colab": {
          "base_uri": "https://localhost:8080/"
        },
        "id": "xug7_ioQYP0M",
        "outputId": "77893bcc-22cb-42ca-ce9c-1d7d044db447"
      },
      "source": [
        "test_ok_array.shape"
      ],
      "execution_count": 33,
      "outputs": [
        {
          "output_type": "execute_result",
          "data": {
            "text/plain": [
              "(262, 64, 64, 1)"
            ]
          },
          "metadata": {
            "tags": []
          },
          "execution_count": 33
        }
      ]
    },
    {
      "cell_type": "markdown",
      "metadata": {
        "id": "WEDkvN199PHu"
      },
      "source": [
        "Criação dos arrays com os labels das imagens de teste.\n",
        "\n",
        "1 para defeituosa\n",
        "\n",
        "0 para sem defeito"
      ]
    },
    {
      "cell_type": "code",
      "metadata": {
        "id": "kFPMQLkqYT9k"
      },
      "source": [
        "test_def_labels=np.ones(number_files_ts_df,dtype=np.int64)"
      ],
      "execution_count": 34,
      "outputs": []
    },
    {
      "cell_type": "code",
      "metadata": {
        "id": "YDIRepNLYfF8"
      },
      "source": [
        "test_ok_labels=np.zeros(number_files_ts_ok,dtype=np.int64)"
      ],
      "execution_count": 35,
      "outputs": []
    },
    {
      "cell_type": "markdown",
      "metadata": {
        "id": "u_TrO72M9fEQ"
      },
      "source": [
        "Junção e mistura das imagens de teste defeituosas e sem defeitos."
      ]
    },
    {
      "cell_type": "code",
      "metadata": {
        "colab": {
          "base_uri": "https://localhost:8080/"
        },
        "id": "I5VzfZcPYrLJ",
        "outputId": "3d491f1b-0a08-49a2-fc0c-6b3a3c992d39"
      },
      "source": [
        "test_def_l=test_def_array.tolist()\n",
        "test_ok_l=test_ok_array.tolist()\n",
        "test_l=test_def_l+test_ok_l\n",
        "random.seed(1234)\n",
        "random.shuffle(test_l)\n",
        "test_array=np.array(test_l)\n",
        "print(test_array.shape)"
      ],
      "execution_count": 36,
      "outputs": [
        {
          "output_type": "stream",
          "text": [
            "(715, 64, 64, 1)\n"
          ],
          "name": "stdout"
        }
      ]
    },
    {
      "cell_type": "markdown",
      "metadata": {
        "id": "bY7vCp549m7Y"
      },
      "source": [
        "Junção e mistura dos labels das imagens de teste defeituosas e sem defeitos."
      ]
    },
    {
      "cell_type": "code",
      "metadata": {
        "colab": {
          "base_uri": "https://localhost:8080/"
        },
        "id": "h__SPVq9Y_AE",
        "outputId": "b3869ffe-92df-4a53-ad9c-6afa0eb3884a"
      },
      "source": [
        "test_def_labels_l=test_def_labels.tolist()\n",
        "test_ok_labels_l=test_ok_labels.tolist()\n",
        "test_labels_l=test_def_labels_l+test_ok_labels_l\n",
        "random.seed(1234)\n",
        "random.shuffle(test_labels_l)\n",
        "test_labels_array=np.array(test_labels_l)\n",
        "print(test_labels_array.shape)"
      ],
      "execution_count": 37,
      "outputs": [
        {
          "output_type": "stream",
          "text": [
            "(715,)\n"
          ],
          "name": "stdout"
        }
      ]
    },
    {
      "cell_type": "markdown",
      "metadata": {
        "id": "BhCzYRfR99s4"
      },
      "source": [
        "Exibição de uma imagem do tensor de teste(conferência)"
      ]
    },
    {
      "cell_type": "code",
      "metadata": {
        "colab": {
          "base_uri": "https://localhost:8080/",
          "height": 285
        },
        "id": "7wcEzGejZg4N",
        "outputId": "f2fb1326-f39b-4f6b-c223-3ac898dc6ca7"
      },
      "source": [
        "lb_t=0\n",
        "test_array_d=test_array.reshape(715,64,64)\n",
        "plt.imshow(test_array_d[lb_t], cmap='gray', interpolation='none')\n",
        "print('LABEL:'+str(test_labels_array[lb_t]))"
      ],
      "execution_count": 38,
      "outputs": [
        {
          "output_type": "stream",
          "text": [
            "LABEL:1\n"
          ],
          "name": "stdout"
        },
        {
          "output_type": "display_data",
          "data": {
            "image/png": "[encoded data removed]",
            "text/plain": [
              "<Figure size 432x288 with 1 Axes>"
            ]
          },
          "metadata": {
            "tags": [],
            "needs_background": "light"
          }
        }
      ]
    },
    {
      "cell_type": "markdown",
      "metadata": {
        "id": "HAhaOUY8-jKf"
      },
      "source": [
        "Construção do modelo de rede neural convolucional"
      ]
    },
    {
      "cell_type": "code",
      "metadata": {
        "id": "_Dl-XScOahsG"
      },
      "source": [
        "network = models.Sequential()"
      ],
      "execution_count": 39,
      "outputs": []
    },
    {
      "cell_type": "code",
      "metadata": {
        "id": "W3FDh_BncswO"
      },
      "source": [
        "network.add(Conv2D(32, kernel_size=3, activation='relu', input_shape=(64,64,1)))\n",
        "network.add(Conv2D(64, kernel_size=3, activation='relu'))\n",
        "network.add(MaxPooling2D(pool_size=(2,2)))\n",
        "network.add(Conv2D(128, kernel_size=3, activation='relu'))\n",
        "network.add(MaxPooling2D(pool_size=(2,2)))\n",
        "network.add(Flatten())\n",
        "network.add(Dense(512))\n",
        "network.add(Activation('relu'))\n",
        "network.add(Dense(1, activation='sigmoid'))"
      ],
      "execution_count": 40,
      "outputs": []
    },
    {
      "cell_type": "code",
      "metadata": {
        "id": "H0tR6fXVc1SF"
      },
      "source": [
        "network.compile(optimizer='adam', loss='binary_crossentropy', metrics=['accuracy'])"
      ],
      "execution_count": 41,
      "outputs": []
    },
    {
      "cell_type": "markdown",
      "metadata": {
        "id": "Hy_DS2pX-wWY"
      },
      "source": [
        "Normalização dos valores dos pixels"
      ]
    },
    {
      "cell_type": "code",
      "metadata": {
        "id": "ilqRtgWgdx22"
      },
      "source": [
        "train_array_2 = train_array / 255\n",
        "test_array_2= test_array / 255"
      ],
      "execution_count": 42,
      "outputs": []
    },
    {
      "cell_type": "markdown",
      "metadata": {
        "id": "yF-tiCjb2vnS"
      },
      "source": [
        "Treino do modelo"
      ]
    },
    {
      "cell_type": "code",
      "metadata": {
        "colab": {
          "base_uri": "https://localhost:8080/"
        },
        "id": "ke9Z5AS1eMTW",
        "outputId": "776ced88-6441-4e2a-c4bc-ca9b6a4d7aca"
      },
      "source": [
        "history = network.fit(train_array_2, train_labels_array, epochs=20)"
      ],
      "execution_count": 43,
      "outputs": [
        {
          "output_type": "stream",
          "text": [
            "Epoch 1/20\n",
            "208/208 [==============================] - 171s 733ms/step - loss: 0.6037 - accuracy: 0.6530\n",
            "Epoch 2/20\n",
            "208/208 [==============================] - 153s 736ms/step - loss: 0.2217 - accuracy: 0.9011\n",
            "Epoch 3/20\n",
            "208/208 [==============================] - 153s 736ms/step - loss: 0.1086 - accuracy: 0.9592\n",
            "Epoch 4/20\n",
            "208/208 [==============================] - 153s 735ms/step - loss: 0.0434 - accuracy: 0.9907\n",
            "Epoch 5/20\n",
            "208/208 [==============================] - 153s 736ms/step - loss: 0.0258 - accuracy: 0.9937\n",
            "Epoch 6/20\n",
            "208/208 [==============================] - 152s 733ms/step - loss: 0.0328 - accuracy: 0.9880\n",
            "Epoch 7/20\n",
            "208/208 [==============================] - 152s 730ms/step - loss: 0.0531 - accuracy: 0.9798\n",
            "Epoch 8/20\n",
            "208/208 [==============================] - 152s 731ms/step - loss: 0.0156 - accuracy: 0.9943\n",
            "Epoch 9/20\n",
            "208/208 [==============================] - 153s 733ms/step - loss: 0.0117 - accuracy: 0.9967\n",
            "Epoch 10/20\n",
            "208/208 [==============================] - 153s 735ms/step - loss: 0.0087 - accuracy: 0.9973\n",
            "Epoch 11/20\n",
            "208/208 [==============================] - 153s 735ms/step - loss: 0.0118 - accuracy: 0.9964\n",
            "Epoch 12/20\n",
            "208/208 [==============================] - 153s 734ms/step - loss: 0.0076 - accuracy: 0.9973\n",
            "Epoch 13/20\n",
            "208/208 [==============================] - 152s 732ms/step - loss: 0.0090 - accuracy: 0.9969\n",
            "Epoch 14/20\n",
            "208/208 [==============================] - 152s 730ms/step - loss: 0.0287 - accuracy: 0.9882\n",
            "Epoch 15/20\n",
            "208/208 [==============================] - 152s 730ms/step - loss: 0.0108 - accuracy: 0.9964\n",
            "Epoch 16/20\n",
            "208/208 [==============================] - 152s 733ms/step - loss: 0.0107 - accuracy: 0.9962\n",
            "Epoch 17/20\n",
            "208/208 [==============================] - 153s 734ms/step - loss: 0.0078 - accuracy: 0.9973\n",
            "Epoch 18/20\n",
            "208/208 [==============================] - 153s 733ms/step - loss: 0.0063 - accuracy: 0.9971\n",
            "Epoch 19/20\n",
            "208/208 [==============================] - 152s 730ms/step - loss: 0.0231 - accuracy: 0.9920\n",
            "Epoch 20/20\n",
            "208/208 [==============================] - 151s 728ms/step - loss: 0.0071 - accuracy: 0.9977\n"
          ],
          "name": "stdout"
        }
      ]
    },
    {
      "cell_type": "markdown",
      "metadata": {
        "id": "sYEYuvgJxHDm"
      },
      "source": [
        "Verificação da acurácia"
      ]
    },
    {
      "cell_type": "code",
      "metadata": {
        "colab": {
          "base_uri": "https://localhost:8080/"
        },
        "id": "q5e8Risvhn4h",
        "outputId": "47392686-0f5b-4e38-e962-8a8a8a034621"
      },
      "source": [
        "test_loss, test_acc = network.evaluate(test_array_2, test_labels_array)"
      ],
      "execution_count": 44,
      "outputs": [
        {
          "output_type": "stream",
          "text": [
            "23/23 [==============================] - 5s 181ms/step - loss: 0.0208 - accuracy: 0.9930\n"
          ],
          "name": "stdout"
        }
      ]
    },
    {
      "cell_type": "code",
      "metadata": {
        "colab": {
          "base_uri": "https://localhost:8080/"
        },
        "id": "KvjcYLUJiCmZ",
        "outputId": "0e5e4d6b-a001-4683-dd4d-af9eaba793f0"
      },
      "source": [
        "test_loss, test_acc"
      ],
      "execution_count": 45,
      "outputs": [
        {
          "output_type": "execute_result",
          "data": {
            "text/plain": [
              "(0.020792244002223015, 0.9930070042610168)"
            ]
          },
          "metadata": {
            "tags": []
          },
          "execution_count": 45
        }
      ]
    },
    {
      "cell_type": "code",
      "metadata": {
        "id": "r8tty03JvTaZ"
      },
      "source": [
        "import pandas as pd\n",
        "data_his = pd.DataFrame(history.history)"
      ],
      "execution_count": 47,
      "outputs": []
    },
    {
      "cell_type": "code",
      "metadata": {
        "id": "_zTRlf6V0Zsb"
      },
      "source": [
        "data_his['epoch']=[1,2,3,4,5,6,7,8,9,10,11,12,13,14,15,16,17,18,19,20]\n",
        "data_his=data_his.set_index('epoch')"
      ],
      "execution_count": 61,
      "outputs": []
    },
    {
      "cell_type": "code",
      "metadata": {
        "colab": {
          "base_uri": "https://localhost:8080/",
          "height": 590
        },
        "id": "9eJyx6sHxCWj",
        "outputId": "561ceb62-762d-403f-8da9-4ea002e1aeac"
      },
      "source": [
        "import seaborn as sns\n",
        "\n",
        "plt.rcParams[\"figure.figsize\"] = (16,9)\n",
        "sns.set(style=\"darkgrid\")\n",
        "\n",
        "plt.title('Visualisation of the Training')\n",
        "plt.ylabel('Loss/Accuracy')\n",
        "plt.xlabel('# Epochs')\n",
        "plt.xticks([1,2,3,4,5,6,7,8,9,10,11,12,13,14,15,16,17,18,19,20]) \n",
        "sns.lineplot(data=data_his, linewidth=3.5)"
      ],
      "execution_count": 64,
      "outputs": [
        {
          "output_type": "execute_result",
          "data": {
            "text/plain": [
              "<matplotlib.axes._subplots.AxesSubplot at 0x7f4cb385fdd0>"
            ]
          },
          "metadata": {
            "tags": []
          },
          "execution_count": 64
        },
        {
          "output_type": "display_data",
          "data": {
            "image/png": "[encoded data removed]",
            "text/plain": [
              "<Figure size 1152x648 with 1 Axes>"
            ]
          },
          "metadata": {
            "tags": []
          }
        }
      ]
    },
    {
      "cell_type": "markdown",
      "metadata": {
        "id": "vDCKCZe_5I8T"
      },
      "source": [
        "Matriz de confusão"
      ]
    },
    {
      "cell_type": "code",
      "metadata": {
        "id": "tSxmhnRr2dqV"
      },
      "source": [
        "predictions = network.predict(test_array_2)"
      ],
      "execution_count": 65,
      "outputs": []
    },
    {
      "cell_type": "code",
      "metadata": {
        "id": "0CiTpj0x4C1P"
      },
      "source": [
        "predictions=predictions.reshape(715,)"
      ],
      "execution_count": 71,
      "outputs": []
    },
    {
      "cell_type": "code",
      "metadata": {
        "id": "fcW0JTlW2u8v"
      },
      "source": [
        "real_pred = pd.DataFrame({'Actual':test_labels_array, 'Pred':predictions})"
      ],
      "execution_count": 89,
      "outputs": []
    },
    {
      "cell_type": "code",
      "metadata": {
        "id": "pbNCPzka4n1v"
      },
      "source": [
        "real_pred['Predicted'] = np.where(real_pred['Pred']> 0.5, 1, 0)"
      ],
      "execution_count": 101,
      "outputs": []
    },
    {
      "cell_type": "code",
      "metadata": {
        "id": "Qa629RXU909p"
      },
      "source": [
        "df_confusion = pd.crosstab(real_pred['Actual'], real_pred['Predicted'],margins=True,margins_name='Total')"
      ],
      "execution_count": 107,
      "outputs": []
    },
    {
      "cell_type": "code",
      "metadata": {
        "colab": {
          "base_uri": "https://localhost:8080/",
          "height": 173
        },
        "id": "i7ayd7EA-C7C",
        "outputId": "f554a731-46bd-45b1-d242-a908d7492b7b"
      },
      "source": [
        "df_confusion"
      ],
      "execution_count": 108,
      "outputs": [
        {
          "output_type": "execute_result",
          "data": {
            "text/html": [
              "<div>\n",
              "<style scoped>\n",
              "    .dataframe tbody tr th:only-of-type {\n",
              "        vertical-align: middle;\n",
              "    }\n",
              "\n",
              "    .dataframe tbody tr th {\n",
              "        vertical-align: top;\n",
              "    }\n",
              "\n",
              "    .dataframe thead th {\n",
              "        text-align: right;\n",
              "    }\n",
              "</style>\n",
              "<table border=\"1\" class=\"dataframe\">\n",
              "  <thead>\n",
              "    <tr style=\"text-align: right;\">\n",
              "      <th>Predicted</th>\n",
              "      <th>0</th>\n",
              "      <th>1</th>\n",
              "      <th>Total</th>\n",
              "    </tr>\n",
              "    <tr>\n",
              "      <th>Actual</th>\n",
              "      <th></th>\n",
              "      <th></th>\n",
              "      <th></th>\n",
              "    </tr>\n",
              "  </thead>\n",
              "  <tbody>\n",
              "    <tr>\n",
              "      <th>0</th>\n",
              "      <td>262</td>\n",
              "      <td>0</td>\n",
              "      <td>262</td>\n",
              "    </tr>\n",
              "    <tr>\n",
              "      <th>1</th>\n",
              "      <td>5</td>\n",
              "      <td>448</td>\n",
              "      <td>453</td>\n",
              "    </tr>\n",
              "    <tr>\n",
              "      <th>Total</th>\n",
              "      <td>267</td>\n",
              "      <td>448</td>\n",
              "      <td>715</td>\n",
              "    </tr>\n",
              "  </tbody>\n",
              "</table>\n",
              "</div>"
            ],
            "text/plain": [
              "Predicted    0    1  Total\n",
              "Actual                    \n",
              "0          262    0    262\n",
              "1            5  448    453\n",
              "Total      267  448    715"
            ]
          },
          "metadata": {
            "tags": []
          },
          "execution_count": 108
        }
      ]
    },
    {
      "cell_type": "markdown",
      "metadata": {
        "id": "X1AecXrxEnZC"
      },
      "source": [
        "### O Modelo apresentou uma acurácia de 99,3%, tendo classificado de forma errada apenas 5 imagens."
      ]
    }
  ]
}