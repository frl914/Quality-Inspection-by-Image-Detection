{
  "nbformat": 4,
  "nbformat_minor": 0,
  "metadata": {
    "colab": {
      "name": "Quality_control.ipynb",
      "provenance": [],
      "collapsed_sections": []
    },
    "kernelspec": {
      "name": "python3",
      "display_name": "Python 3"
    },
    "language_info": {
      "name": "python"
    }
  },
  "cells": [
    {
      "cell_type": "markdown",
      "metadata": {
        "id": "wf5xbZgdzwHS"
      },
      "source": [
        "## Modelo de Controle de Qualidade\n",
        "\n",
        "#### Modelo de classificação de imagens que tem como objetivo classificar fotos de peças fundidas entre sem defeito e defeituosa. Os defeitos podem ser buracos, bolhas, rebarbas, dimensões incorretas, trincas e etc. O banco de imagens possui 7348 imagens com tamanho de 300*300 pixels em tons de cinza. Elas foram divididas entre treino e teste com 6633 e 715 imagens respectivamente. Para realizar a classificação, foi utilizada uma rede neural convolucional."
      ]
    },
    {
      "cell_type": "code",
      "metadata": {
        "id": "kuVjoHAP0puC"
      },
      "source": [
        "from matplotlib import pyplot as plt"
      ],
      "execution_count": 1,
      "outputs": []
    },
    {
      "cell_type": "code",
      "metadata": {
        "id": "sTnN1bohm4V_"
      },
      "source": [
        "import numpy as np"
      ],
      "execution_count": 2,
      "outputs": []
    },
    {
      "cell_type": "code",
      "metadata": {
        "id": "ogYCrrAVm99_"
      },
      "source": [
        "from PIL import Image"
      ],
      "execution_count": 3,
      "outputs": []
    },
    {
      "cell_type": "code",
      "metadata": {
        "id": "tEr5CvCunSzX"
      },
      "source": [
        "import os"
      ],
      "execution_count": 4,
      "outputs": []
    },
    {
      "cell_type": "code",
      "metadata": {
        "id": "F7VIfI1VoI3A"
      },
      "source": [
        "import cv2"
      ],
      "execution_count": 5,
      "outputs": []
    },
    {
      "cell_type": "code",
      "metadata": {
        "id": "2j8UetwToN6P"
      },
      "source": [
        "from google.colab.patches import cv2_imshow"
      ],
      "execution_count": 6,
      "outputs": []
    },
    {
      "cell_type": "code",
      "metadata": {
        "id": "q7gpwxWJtNQK"
      },
      "source": [
        "import random"
      ],
      "execution_count": 7,
      "outputs": []
    },
    {
      "cell_type": "code",
      "metadata": {
        "id": "lmRq859B_eax"
      },
      "source": [
        "import keras"
      ],
      "execution_count": 8,
      "outputs": []
    },
    {
      "cell_type": "code",
      "metadata": {
        "id": "b5tdJ4pe-RXg"
      },
      "source": [
        "from keras import models\n",
        "from keras import layers"
      ],
      "execution_count": 9,
      "outputs": []
    },
    {
      "cell_type": "code",
      "metadata": {
        "id": "dAvhLI_y-YUj"
      },
      "source": [
        "from tensorflow.keras.layers import Activation, Dropout, Flatten, Dense, Conv2D, MaxPooling2D"
      ],
      "execution_count": 10,
      "outputs": []
    },
    {
      "cell_type": "markdown",
      "metadata": {
        "id": "IF_YoSnZv2Rq"
      },
      "source": [
        "Estabelecimento da conexão com o Drive"
      ]
    },
    {
      "cell_type": "code",
      "metadata": {
        "colab": {
          "base_uri": "https://localhost:8080/"
        },
        "id": "WL8Z4X-_EL10",
        "outputId": "bb8eb9b6-d956-4de9-bc6a-1725a5d09075"
      },
      "source": [
        "from google.colab import drive\n",
        "drive.mount('/content/drive')"
      ],
      "execution_count": null,
      "outputs": [
        {
          "output_type": "stream",
          "text": [
            "Mounted at /content/drive\n"
          ],
          "name": "stdout"
        }
      ]
    },
    {
      "cell_type": "code",
      "metadata": {
        "colab": {
          "base_uri": "https://localhost:8080/",
          "height": 35
        },
        "id": "AgfTX8VNnbMX",
        "outputId": "2539ae09-ca7b-4958-cfa4-06a1d39d6a89"
      },
      "source": [
        "pwd"
      ],
      "execution_count": 11,
      "outputs": [
        {
          "output_type": "execute_result",
          "data": {
            "application/vnd.google.colaboratory.intrinsic+json": {
              "type": "string"
            },
            "text/plain": [
              "'/content'"
            ]
          },
          "metadata": {
            "tags": []
          },
          "execution_count": 11
        }
      ]
    },
    {
      "cell_type": "markdown",
      "metadata": {
        "id": "HvKMwegy1Tj9"
      },
      "source": [
        "Exibição de um exemplo de imagem da peça defeituosa."
      ]
    },
    {
      "cell_type": "code",
      "metadata": {
        "id": "n5yS7YD9H2nn"
      },
      "source": [
        "im = Image.open('/content/drive/MyDrive/Data/train/def_front/cast_def_0_0.jpeg')"
      ],
      "execution_count": 12,
      "outputs": []
    },
    {
      "cell_type": "code",
      "metadata": {
        "colab": {
          "base_uri": "https://localhost:8080/"
        },
        "id": "WHoM-KzPISPQ",
        "outputId": "402cba2c-42d9-4c84-f5ac-90c080119ca2"
      },
      "source": [
        "im.size"
      ],
      "execution_count": 13,
      "outputs": [
        {
          "output_type": "execute_result",
          "data": {
            "text/plain": [
              "(300, 300)"
            ]
          },
          "metadata": {
            "tags": []
          },
          "execution_count": 13
        }
      ]
    },
    {
      "cell_type": "code",
      "metadata": {
        "colab": {
          "base_uri": "https://localhost:8080/",
          "height": 286
        },
        "id": "zvVN2PJVr5Vw",
        "outputId": "214bba90-d252-49e4-da51-baf5e1181fb9"
      },
      "source": [
        "plt.imshow(im, cmap='gray', interpolation='none')"
      ],
      "execution_count": 14,
      "outputs": [
        {
          "output_type": "execute_result",
          "data": {
            "text/plain": [
              "<matplotlib.image.AxesImage at 0x7fdded7c5790>"
            ]
          },
          "metadata": {
            "tags": []
          },
          "execution_count": 14
        },
        {
          "output_type": "display_data",
          "data": {
            "image/png": "[encoded data removed]",
            "text/plain": [
              "<Figure size 432x288 with 1 Axes>"
            ]
          },
          "metadata": {
            "tags": [],
            "needs_background": "light"
          }
        }
      ]
    },
    {
      "cell_type": "markdown",
      "metadata": {
        "id": "HjWuTX1Z16V9"
      },
      "source": [
        "###Extração dos pixels das imagens.\n",
        "\n",
        "As imagens estão divididas em quatro pastas: treino defeituosa com 3758 imagens, treino sem defeito com 2875 imagens, teste defeituosa com 453 imagens e teste sem defeito com 262 imagens."
      ]
    },
    {
      "cell_type": "code",
      "metadata": {
        "colab": {
          "base_uri": "https://localhost:8080/"
        },
        "id": "mwf2IHHh31nk",
        "outputId": "b9983b68-297e-424c-bc8f-83d9875022a8"
      },
      "source": [
        "list_tr_df = os.listdir('/content/drive/MyDrive/Data/train/def_front')\n",
        "number_files_tr_df = len(list_tr_df)\n",
        "print(number_files_tr_df)"
      ],
      "execution_count": 15,
      "outputs": [
        {
          "output_type": "stream",
          "text": [
            "3758\n"
          ],
          "name": "stdout"
        }
      ]
    },
    {
      "cell_type": "code",
      "metadata": {
        "colab": {
          "base_uri": "https://localhost:8080/"
        },
        "id": "Sl7UBiIknQ-_",
        "outputId": "acb3d5d5-7b3d-48b1-fe1f-2c67bab7a8b8"
      },
      "source": [
        "list_tr_ok = os.listdir('/content/drive/MyDrive/Data/train/ok_front')\n",
        "number_files_tr_ok = len(list_tr_ok)\n",
        "print(number_files_tr_ok)"
      ],
      "execution_count": 16,
      "outputs": [
        {
          "output_type": "stream",
          "text": [
            "2875\n"
          ],
          "name": "stdout"
        }
      ]
    },
    {
      "cell_type": "markdown",
      "metadata": {
        "id": "CsIZ-TlA3Fge"
      },
      "source": [
        "Redimensionamento das imagens(64*64 pixels) da pasta treino defeituosa, extração dos pixels e criação dos tensores."
      ]
    },
    {
      "cell_type": "code",
      "metadata": {
        "id": "D63q54EGyHRC"
      },
      "source": [
        "train_def_list=[]\n",
        "for subdirs, dirs, files in os.walk('/content/drive/MyDrive/Data/train/def_front'):\n",
        "  for filename in files:\n",
        "    filepath = subdirs+os.sep+filename\n",
        "    i=Image.open(filepath)\n",
        "    ii=i.resize((64,64))\n",
        "    u=np.array((ii).getdata())\n",
        "    for k in range(len(u)):\n",
        "      for l in range(len(u[k])):\n",
        "        x=np.unique(u[k])\n",
        "      train_def_list.append(x)\n",
        "train_def_array=np.array(train_def_list)\n",
        "train_def_array=train_def_array.reshape(number_files_tr_df,64,64,1)"
      ],
      "execution_count": 17,
      "outputs": []
    },
    {
      "cell_type": "code",
      "metadata": {
        "colab": {
          "base_uri": "https://localhost:8080/"
        },
        "id": "7vfzwxoNmfZG",
        "outputId": "0b2bc63c-5268-4f39-e69f-b5ae3f5cf88e"
      },
      "source": [
        "train_def_array.shape"
      ],
      "execution_count": 18,
      "outputs": [
        {
          "output_type": "execute_result",
          "data": {
            "text/plain": [
              "(3758, 64, 64, 1)"
            ]
          },
          "metadata": {
            "tags": []
          },
          "execution_count": 18
        }
      ]
    },
    {
      "cell_type": "markdown",
      "metadata": {
        "id": "S1W2p67Z5Adv"
      },
      "source": [
        "\n",
        "Redimensionamento das imagens(64*64 pixels) da pasta treino sem defeito, extração dos pixels e criação dos tensores.\n"
      ]
    },
    {
      "cell_type": "code",
      "metadata": {
        "id": "Rk5ST5iWlkrg"
      },
      "source": [
        "train_ok_list=[]\n",
        "for subdirs, dirs, files in os.walk('/content/drive/MyDrive/Data/train/ok_front'):\n",
        "  for filename in files:\n",
        "    filepath = subdirs+os.sep+filename\n",
        "    i=Image.open(filepath)\n",
        "    ii=i.resize((64,64))\n",
        "    u=np.array((ii).getdata())\n",
        "    for k in range(len(u)):\n",
        "      for l in range(len(u[k])):\n",
        "        x=np.unique(u[k])\n",
        "      train_ok_list.append(x)\n",
        "train_ok_array=np.array(train_ok_list)\n",
        "train_ok_array=train_ok_array.reshape(number_files_tr_ok,64,64,1)"
      ],
      "execution_count": 19,
      "outputs": []
    },
    {
      "cell_type": "code",
      "metadata": {
        "colab": {
          "base_uri": "https://localhost:8080/"
        },
        "id": "YjX7yoCinvzx",
        "outputId": "c47e23ea-d8fa-4f37-f6eb-267012b37429"
      },
      "source": [
        "train_ok_array.shape"
      ],
      "execution_count": 20,
      "outputs": [
        {
          "output_type": "execute_result",
          "data": {
            "text/plain": [
              "(2875, 64, 64, 1)"
            ]
          },
          "metadata": {
            "tags": []
          },
          "execution_count": 20
        }
      ]
    },
    {
      "cell_type": "markdown",
      "metadata": {
        "id": "_-FiawK25KAh"
      },
      "source": [
        "Criação dos arrays com os labels das imagens de treino.\n",
        "### 1 para defeituosa\n",
        "### 0 para sem defeito"
      ]
    },
    {
      "cell_type": "code",
      "metadata": {
        "id": "fkiSe4RivXUy"
      },
      "source": [
        "train_def_labels=np.ones(number_files_tr_df,dtype=np.int64)"
      ],
      "execution_count": 21,
      "outputs": []
    },
    {
      "cell_type": "code",
      "metadata": {
        "colab": {
          "base_uri": "https://localhost:8080/"
        },
        "id": "8R3Ajztr5sBt",
        "outputId": "b77ca310-0781-4133-bf32-b70989858d57"
      },
      "source": [
        "train_def_labels.shape"
      ],
      "execution_count": 22,
      "outputs": [
        {
          "output_type": "execute_result",
          "data": {
            "text/plain": [
              "(3758,)"
            ]
          },
          "metadata": {
            "tags": []
          },
          "execution_count": 22
        }
      ]
    },
    {
      "cell_type": "code",
      "metadata": {
        "id": "9VFECCKd556V"
      },
      "source": [
        "train_ok_labels=np.zeros(number_files_tr_ok,dtype=np.int64)"
      ],
      "execution_count": 23,
      "outputs": []
    },
    {
      "cell_type": "code",
      "metadata": {
        "colab": {
          "base_uri": "https://localhost:8080/"
        },
        "id": "ztrCvoFY6FMT",
        "outputId": "d51ad2f1-f163-4bbc-a272-4d02f19f9f9b"
      },
      "source": [
        "train_ok_labels.shape"
      ],
      "execution_count": 24,
      "outputs": [
        {
          "output_type": "execute_result",
          "data": {
            "text/plain": [
              "(2875,)"
            ]
          },
          "metadata": {
            "tags": []
          },
          "execution_count": 24
        }
      ]
    },
    {
      "cell_type": "markdown",
      "metadata": {
        "id": "k2qWx54k5ukX"
      },
      "source": [
        "Junção e mistura das imagens de treino defeituosas e sem defeitos."
      ]
    },
    {
      "cell_type": "code",
      "metadata": {
        "colab": {
          "base_uri": "https://localhost:8080/"
        },
        "id": "z5Bvrk4BsLUR",
        "outputId": "600a819e-0d7a-4d37-8695-df31e80a283d"
      },
      "source": [
        "train_def_l=train_def_array.tolist()\n",
        "train_ok_l=train_ok_array.tolist()\n",
        "train_l=train_def_l+train_ok_l\n",
        "random.seed(1234)\n",
        "random.shuffle(train_l)\n",
        "train_array=np.array(train_l)\n",
        "print(train_array.shape)"
      ],
      "execution_count": 25,
      "outputs": [
        {
          "output_type": "stream",
          "text": [
            "(6633, 64, 64, 1)\n"
          ],
          "name": "stdout"
        }
      ]
    },
    {
      "cell_type": "markdown",
      "metadata": {
        "id": "m7U4GFRS6FsF"
      },
      "source": [
        "Junção e mistura dos labels das imagens de treino defeituosas e sem defeitos."
      ]
    },
    {
      "cell_type": "code",
      "metadata": {
        "colab": {
          "base_uri": "https://localhost:8080/"
        },
        "id": "4qgaczLv63XW",
        "outputId": "63971830-140a-40af-d3f4-63365dc22a69"
      },
      "source": [
        "train_def_labels_l=train_def_labels.tolist()\n",
        "train_ok_labels_l=train_ok_labels.tolist()\n",
        "train_labels_l=train_def_labels_l+train_ok_labels_l\n",
        "random.seed(1234)\n",
        "random.shuffle(train_labels_l)\n",
        "train_labels_array=np.array(train_labels_l)\n",
        "print(train_labels_array.shape)"
      ],
      "execution_count": 26,
      "outputs": [
        {
          "output_type": "stream",
          "text": [
            "(6633,)\n"
          ],
          "name": "stdout"
        }
      ]
    },
    {
      "cell_type": "markdown",
      "metadata": {
        "id": "x665VCyE6T8I"
      },
      "source": [
        "Exibição de uma imagem do tensor de treino(conferência)"
      ]
    },
    {
      "cell_type": "code",
      "metadata": {
        "colab": {
          "base_uri": "https://localhost:8080/",
          "height": 285
        },
        "id": "muIaYznfDzme",
        "outputId": "3d3a7b33-ff0d-4e6f-c84a-6e573c7fec5b"
      },
      "source": [
        "lb=0\n",
        "train_array_d=train_array.reshape(6633,64,64)\n",
        "plt.imshow(train_array_d[lb], cmap='gray', interpolation='none')\n",
        "print('LABEL:'+str(train_labels_array[lb]))"
      ],
      "execution_count": 27,
      "outputs": [
        {
          "output_type": "stream",
          "text": [
            "LABEL:1\n"
          ],
          "name": "stdout"
        },
        {
          "output_type": "display_data",
          "data": {
            "image/png": "[encoded data removed]",
            "text/plain": [
              "<Figure size 432x288 with 1 Axes>"
            ]
          },
          "metadata": {
            "tags": [],
            "needs_background": "light"
          }
        }
      ]
    },
    {
      "cell_type": "code",
      "metadata": {
        "colab": {
          "base_uri": "https://localhost:8080/"
        },
        "id": "xNkqURgwWlTL",
        "outputId": "2d643a1d-16b3-44b3-f7e4-62cad3566b7b"
      },
      "source": [
        "list_ts_df = os.listdir('/content/drive/MyDrive/Data/test/def_front')\n",
        "number_files_ts_df = len(list_ts_df)\n",
        "print(number_files_ts_df)"
      ],
      "execution_count": 28,
      "outputs": [
        {
          "output_type": "stream",
          "text": [
            "453\n"
          ],
          "name": "stdout"
        }
      ]
    },
    {
      "cell_type": "code",
      "metadata": {
        "colab": {
          "base_uri": "https://localhost:8080/"
        },
        "id": "ZItgwWzLW0UD",
        "outputId": "8de092f6-c34d-4ebc-b058-21167df0bea7"
      },
      "source": [
        "list_ts_ok = os.listdir('/content/drive/MyDrive/Data/test/ok_front')\n",
        "number_files_ts_ok = len(list_ts_ok)\n",
        "print(number_files_ts_ok)"
      ],
      "execution_count": 29,
      "outputs": [
        {
          "output_type": "stream",
          "text": [
            "262\n"
          ],
          "name": "stdout"
        }
      ]
    },
    {
      "cell_type": "markdown",
      "metadata": {
        "id": "H1ZCG6Ef9Dbp"
      },
      "source": [
        "Redimensionamento das imagens(64*64 pixels) da pasta teste sem defeito, extração dos pixels e criação dos tensores."
      ]
    },
    {
      "cell_type": "code",
      "metadata": {
        "id": "Pfil4vZaXDH0"
      },
      "source": [
        "test_def_list=[]\n",
        "for subdirs, dirs, files in os.walk('/content/drive/MyDrive/Data/test/def_front'):\n",
        "  for filename in files:\n",
        "    filepath = subdirs+os.sep+filename\n",
        "    i=Image.open(filepath)\n",
        "    ii=i.resize((64,64))\n",
        "    u=np.array((ii).getdata())\n",
        "    for k in range(len(u)):\n",
        "      for l in range(len(u[k])):\n",
        "        x=np.unique(u[k])\n",
        "      test_def_list.append(x)\n",
        "test_def_array=np.array(test_def_list)\n",
        "test_def_array=test_def_array.reshape(number_files_ts_df,64,64,1)"
      ],
      "execution_count": 30,
      "outputs": []
    },
    {
      "cell_type": "code",
      "metadata": {
        "colab": {
          "base_uri": "https://localhost:8080/"
        },
        "id": "ojoAXXj-XDS8",
        "outputId": "19d4bcc7-b3d5-4e1b-af18-f912d420ac2b"
      },
      "source": [
        "test_def_array.shape"
      ],
      "execution_count": 31,
      "outputs": [
        {
          "output_type": "execute_result",
          "data": {
            "text/plain": [
              "(453, 64, 64, 1)"
            ]
          },
          "metadata": {
            "tags": []
          },
          "execution_count": 31
        }
      ]
    },
    {
      "cell_type": "markdown",
      "metadata": {
        "id": "7FFqfFoX9Jff"
      },
      "source": [
        "Redimensionamento das imagens(64*64 pixels) da pasta teste sem defeito, extração dos pixels e criação dos tensores."
      ]
    },
    {
      "cell_type": "code",
      "metadata": {
        "id": "l29yr_EFX656"
      },
      "source": [
        "test_ok_list=[]\n",
        "for subdirs, dirs, files in os.walk('/content/drive/MyDrive/Data/test/ok_front'):\n",
        "  for filename in files:\n",
        "    filepath = subdirs+os.sep+filename\n",
        "    i=Image.open(filepath)\n",
        "    ii=i.resize((64,64))\n",
        "    u=np.array((ii).getdata())\n",
        "    for k in range(len(u)):\n",
        "      for l in range(len(u[k])):\n",
        "        x=np.unique(u[k])\n",
        "      test_ok_list.append(x)\n",
        "test_ok_array=np.array(test_ok_list)\n",
        "test_ok_array=test_ok_array.reshape(number_files_ts_ok,64,64,1)"
      ],
      "execution_count": 32,
      "outputs": []
    },
    {
      "cell_type": "code",
      "metadata": {
        "colab": {
          "base_uri": "https://localhost:8080/"
        },
        "id": "xug7_ioQYP0M",
        "outputId": "a048fcf9-053a-42ae-87dc-898123409484"
      },
      "source": [
        "test_ok_array.shape"
      ],
      "execution_count": 33,
      "outputs": [
        {
          "output_type": "execute_result",
          "data": {
            "text/plain": [
              "(262, 64, 64, 1)"
            ]
          },
          "metadata": {
            "tags": []
          },
          "execution_count": 33
        }
      ]
    },
    {
      "cell_type": "markdown",
      "metadata": {
        "id": "WEDkvN199PHu"
      },
      "source": [
        "Criação dos arrays com os labels das imagens de teste.\n",
        "\n",
        "1 para defeituosa\n",
        "\n",
        "0 para sem defeito"
      ]
    },
    {
      "cell_type": "code",
      "metadata": {
        "id": "kFPMQLkqYT9k"
      },
      "source": [
        "test_def_labels=np.ones(number_files_ts_df,dtype=np.int64)"
      ],
      "execution_count": 34,
      "outputs": []
    },
    {
      "cell_type": "code",
      "metadata": {
        "id": "YDIRepNLYfF8"
      },
      "source": [
        "test_ok_labels=np.zeros(number_files_ts_ok,dtype=np.int64)"
      ],
      "execution_count": 35,
      "outputs": []
    },
    {
      "cell_type": "markdown",
      "metadata": {
        "id": "u_TrO72M9fEQ"
      },
      "source": [
        "Junção e mistura das imagens de teste defeituosas e sem defeitos."
      ]
    },
    {
      "cell_type": "code",
      "metadata": {
        "colab": {
          "base_uri": "https://localhost:8080/"
        },
        "id": "I5VzfZcPYrLJ",
        "outputId": "26a88a09-7552-4ac0-8fca-6bce96670550"
      },
      "source": [
        "test_def_l=test_def_array.tolist()\n",
        "test_ok_l=test_ok_array.tolist()\n",
        "test_l=test_def_l+test_ok_l\n",
        "random.seed(1234)\n",
        "random.shuffle(test_l)\n",
        "test_array=np.array(test_l)\n",
        "print(test_array.shape)"
      ],
      "execution_count": 36,
      "outputs": [
        {
          "output_type": "stream",
          "text": [
            "(715, 64, 64, 1)\n"
          ],
          "name": "stdout"
        }
      ]
    },
    {
      "cell_type": "markdown",
      "metadata": {
        "id": "bY7vCp549m7Y"
      },
      "source": [
        "Junção e mistura dos labels das imagens de teste defeituosas e sem defeitos."
      ]
    },
    {
      "cell_type": "code",
      "metadata": {
        "colab": {
          "base_uri": "https://localhost:8080/"
        },
        "id": "h__SPVq9Y_AE",
        "outputId": "147f4c26-9149-4863-9659-00fad3be4d2d"
      },
      "source": [
        "test_def_labels_l=test_def_labels.tolist()\n",
        "test_ok_labels_l=test_ok_labels.tolist()\n",
        "test_labels_l=test_def_labels_l+test_ok_labels_l\n",
        "random.seed(1234)\n",
        "random.shuffle(test_labels_l)\n",
        "test_labels_array=np.array(test_labels_l)\n",
        "print(test_labels_array.shape)"
      ],
      "execution_count": 37,
      "outputs": [
        {
          "output_type": "stream",
          "text": [
            "(715,)\n"
          ],
          "name": "stdout"
        }
      ]
    },
    {
      "cell_type": "markdown",
      "metadata": {
        "id": "BhCzYRfR99s4"
      },
      "source": [
        "Exibição de uma imagem do tensor de teste(conferência)"
      ]
    },
    {
      "cell_type": "code",
      "metadata": {
        "colab": {
          "base_uri": "https://localhost:8080/",
          "height": 285
        },
        "id": "7wcEzGejZg4N",
        "outputId": "4f644edd-5017-42eb-bb53-72104b3a60a2"
      },
      "source": [
        "lb_t=0\n",
        "test_array_d=test_array.reshape(715,64,64)\n",
        "plt.imshow(test_array_d[lb_t], cmap='gray', interpolation='none')\n",
        "print('LABEL:'+str(test_labels_array[lb_t]))"
      ],
      "execution_count": 38,
      "outputs": [
        {
          "output_type": "stream",
          "text": [
            "LABEL:1\n"
          ],
          "name": "stdout"
        },
        {
          "output_type": "display_data",
          "data": {
            "image/png": "[encoded data removed]",
            "text/plain": [
              "<Figure size 432x288 with 1 Axes>"
            ]
          },
          "metadata": {
            "tags": [],
            "needs_background": "light"
          }
        }
      ]
    },
    {
      "cell_type": "code",
      "metadata": {
        "colab": {
          "base_uri": "https://localhost:8080/"
        },
        "id": "0z7YEToJgGl6",
        "outputId": "9f1ca39d-94fe-429a-9ced-a3b01b53e9a0"
      },
      "source": [
        "train_labels_array"
      ],
      "execution_count": 39,
      "outputs": [
        {
          "output_type": "execute_result",
          "data": {
            "text/plain": [
              "array([1, 0, 0, ..., 1, 1, 0])"
            ]
          },
          "metadata": {
            "tags": []
          },
          "execution_count": 39
        }
      ]
    },
    {
      "cell_type": "code",
      "metadata": {
        "id": "6fu5wbK7HG3Y"
      },
      "source": [
        "from numpy import asarray\n",
        "from numpy import save\n",
        "save('/content/drive/MyDrive/Data/train/train.npy', train_array)\n",
        "save('/content/drive/MyDrive/Data/test/test.npy', test_array)"
      ],
      "execution_count": null,
      "outputs": []
    },
    {
      "cell_type": "code",
      "metadata": {
        "id": "fYfFIA9MYAFP"
      },
      "source": [
        "from numpy import load\n",
        "train_array_l=np.load('/content/drive/MyDrive/Data/train/train.npy')\n",
        "test_array_l=np.load('/content/drive/MyDrive/Data/test/test.npy')"
      ],
      "execution_count": 23,
      "outputs": []
    },
    {
      "cell_type": "markdown",
      "metadata": {
        "id": "HAhaOUY8-jKf"
      },
      "source": [
        "Construção do modelo de rede neural convolucional"
      ]
    },
    {
      "cell_type": "code",
      "metadata": {
        "id": "_Dl-XScOahsG"
      },
      "source": [
        "network = models.Sequential()"
      ],
      "execution_count": 60,
      "outputs": []
    },
    {
      "cell_type": "code",
      "metadata": {
        "id": "W3FDh_BncswO"
      },
      "source": [
        "network.add(Conv2D(32, kernel_size=3, activation='relu', input_shape=(64,64,1)))\n",
        "network.add(Conv2D(64, kernel_size=3, activation='relu'))\n",
        "network.add(MaxPooling2D(pool_size=(2,2)))\n",
        "network.add(Conv2D(128, kernel_size=3, activation='relu'))\n",
        "network.add(MaxPooling2D(pool_size=(2,2)))\n",
        "network.add(Flatten())\n",
        "network.add(Dense(512))\n",
        "network.add(Activation('relu'))\n",
        "network.add(Dense(1, activation='sigmoid'))"
      ],
      "execution_count": 61,
      "outputs": []
    },
    {
      "cell_type": "code",
      "metadata": {
        "id": "H0tR6fXVc1SF"
      },
      "source": [
        "network.compile(optimizer='adam', loss='binary_crossentropy', metrics=['accuracy'])"
      ],
      "execution_count": 62,
      "outputs": []
    },
    {
      "cell_type": "markdown",
      "metadata": {
        "id": "Hy_DS2pX-wWY"
      },
      "source": [
        "Normalização dos valores dos pixels"
      ]
    },
    {
      "cell_type": "code",
      "metadata": {
        "id": "ilqRtgWgdx22"
      },
      "source": [
        "train_array_2 = train_array / 255\n",
        "test_array_2= test_array / 255"
      ],
      "execution_count": 44,
      "outputs": []
    },
    {
      "cell_type": "markdown",
      "metadata": {
        "id": "yF-tiCjb2vnS"
      },
      "source": [
        "Treino do modelo"
      ]
    },
    {
      "cell_type": "code",
      "metadata": {
        "colab": {
          "base_uri": "https://localhost:8080/"
        },
        "id": "ke9Z5AS1eMTW",
        "outputId": "b1b69d49-4a7d-4bb5-fdbb-a174c3a50de2"
      },
      "source": [
        "history = network.fit(train_array_2, train_labels_array, epochs=20)"
      ],
      "execution_count": 63,
      "outputs": [
        {
          "output_type": "stream",
          "text": [
            "Epoch 1/20\n",
            "208/208 [==============================] - 121s 574ms/step - loss: 0.6187 - accuracy: 0.6669\n",
            "Epoch 2/20\n",
            "208/208 [==============================] - 120s 577ms/step - loss: 0.2261 - accuracy: 0.9115\n",
            "Epoch 3/20\n",
            "208/208 [==============================] - 120s 576ms/step - loss: 0.1277 - accuracy: 0.9537\n",
            "Epoch 4/20\n",
            "208/208 [==============================] - 120s 578ms/step - loss: 0.0667 - accuracy: 0.9796\n",
            "Epoch 5/20\n",
            "208/208 [==============================] - 120s 575ms/step - loss: 0.0375 - accuracy: 0.9884\n",
            "Epoch 6/20\n",
            "208/208 [==============================] - 120s 577ms/step - loss: 0.0184 - accuracy: 0.9958\n",
            "Epoch 7/20\n",
            "208/208 [==============================] - 120s 575ms/step - loss: 0.0135 - accuracy: 0.9971\n",
            "Epoch 8/20\n",
            "208/208 [==============================] - 120s 576ms/step - loss: 0.0500 - accuracy: 0.9833\n",
            "Epoch 9/20\n",
            "208/208 [==============================] - 119s 574ms/step - loss: 0.0106 - accuracy: 0.9963\n",
            "Epoch 10/20\n",
            "208/208 [==============================] - 119s 574ms/step - loss: 0.0140 - accuracy: 0.9942\n",
            "Epoch 11/20\n",
            "208/208 [==============================] - 119s 573ms/step - loss: 0.0160 - accuracy: 0.9952\n",
            "Epoch 12/20\n",
            "208/208 [==============================] - 119s 573ms/step - loss: 0.0148 - accuracy: 0.9953\n",
            "Epoch 13/20\n",
            "208/208 [==============================] - 119s 572ms/step - loss: 0.0167 - accuracy: 0.9933\n",
            "Epoch 14/20\n",
            "208/208 [==============================] - 119s 574ms/step - loss: 0.0065 - accuracy: 0.9975\n",
            "Epoch 15/20\n",
            "208/208 [==============================] - 119s 571ms/step - loss: 0.0048 - accuracy: 0.9983\n",
            "Epoch 16/20\n",
            "208/208 [==============================] - 119s 573ms/step - loss: 0.0066 - accuracy: 0.9966\n",
            "Epoch 17/20\n",
            "208/208 [==============================] - 119s 570ms/step - loss: 0.0237 - accuracy: 0.9904\n",
            "Epoch 18/20\n",
            "208/208 [==============================] - 119s 573ms/step - loss: 0.0061 - accuracy: 0.9970\n",
            "Epoch 19/20\n",
            "208/208 [==============================] - 119s 571ms/step - loss: 0.0068 - accuracy: 0.9971\n",
            "Epoch 20/20\n",
            "208/208 [==============================] - 119s 574ms/step - loss: 0.0040 - accuracy: 0.9983\n"
          ],
          "name": "stdout"
        }
      ]
    },
    {
      "cell_type": "markdown",
      "metadata": {
        "id": "sYEYuvgJxHDm"
      },
      "source": [
        "Verificação da acurácia"
      ]
    },
    {
      "cell_type": "code",
      "metadata": {
        "colab": {
          "base_uri": "https://localhost:8080/"
        },
        "id": "q5e8Risvhn4h",
        "outputId": "df9aa4ce-4dc9-4c58-f50b-9e782bae3f4e"
      },
      "source": [
        "test_loss, test_acc = network.evaluate(test_array_2, test_labels_array)"
      ],
      "execution_count": 64,
      "outputs": [
        {
          "output_type": "stream",
          "text": [
            "23/23 [==============================] - 3s 120ms/step - loss: 0.0208 - accuracy: 0.9944\n"
          ],
          "name": "stdout"
        }
      ]
    },
    {
      "cell_type": "code",
      "metadata": {
        "colab": {
          "base_uri": "https://localhost:8080/"
        },
        "id": "KvjcYLUJiCmZ",
        "outputId": "5f63e64f-9b4a-430f-dc8c-84c389a3954c"
      },
      "source": [
        "test_loss, test_acc"
      ],
      "execution_count": 70,
      "outputs": [
        {
          "output_type": "execute_result",
          "data": {
            "text/plain": [
              "(0.02079261653125286, 0.9944055676460266)"
            ]
          },
          "metadata": {
            "tags": []
          },
          "execution_count": 70
        }
      ]
    },
    {
      "cell_type": "code",
      "metadata": {
        "colab": {
          "base_uri": "https://localhost:8080/"
        },
        "id": "b3xyD24fuN3V",
        "outputId": "db917108-851f-4e4a-c588-528d6cb7fd6b"
      },
      "source": [
        "print(network.summary())"
      ],
      "execution_count": 53,
      "outputs": [
        {
          "output_type": "stream",
          "text": [
            "Model: \"sequential\"\n",
            "_________________________________________________________________\n",
            "Layer (type)                 Output Shape              Param #   \n",
            "=================================================================\n",
            "module_wrapper (ModuleWrappe (None, 62, 62, 32)        320       \n",
            "_________________________________________________________________\n",
            "module_wrapper_1 (ModuleWrap (None, 60, 60, 64)        18496     \n",
            "_________________________________________________________________\n",
            "module_wrapper_2 (ModuleWrap (None, 30, 30, 64)        0         \n",
            "_________________________________________________________________\n",
            "module_wrapper_3 (ModuleWrap (None, 28, 28, 128)       73856     \n",
            "_________________________________________________________________\n",
            "module_wrapper_4 (ModuleWrap (None, 14, 14, 128)       0         \n",
            "_________________________________________________________________\n",
            "module_wrapper_5 (ModuleWrap (None, 25088)             0         \n",
            "_________________________________________________________________\n",
            "module_wrapper_6 (ModuleWrap (None, 512)               12845568  \n",
            "_________________________________________________________________\n",
            "module_wrapper_7 (ModuleWrap (None, 512)               0         \n",
            "_________________________________________________________________\n",
            "module_wrapper_8 (ModuleWrap (None, 1)                 513       \n",
            "=================================================================\n",
            "Total params: 12,938,753\n",
            "Trainable params: 12,938,753\n",
            "Non-trainable params: 0\n",
            "_________________________________________________________________\n",
            "None\n"
          ],
          "name": "stdout"
        }
      ]
    },
    {
      "cell_type": "code",
      "metadata": {
        "id": "r8tty03JvTaZ"
      },
      "source": [
        "data_his = pd.DataFrame(history.history)"
      ],
      "execution_count": 72,
      "outputs": []
    },
    {
      "cell_type": "code",
      "metadata": {
        "colab": {
          "base_uri": "https://localhost:8080/",
          "height": 590
        },
        "id": "9eJyx6sHxCWj",
        "outputId": "b9754765-b832-4a9f-cab5-1ba58e12dbde"
      },
      "source": [
        "import seaborn as sns\n",
        "\n",
        "plt.rcParams[\"figure.figsize\"] = (16,9)\n",
        "sns.set(style=\"darkgrid\")\n",
        "\n",
        "plt.title('Visualisation of the training')\n",
        "plt.ylabel('Loss/Accuracy')\n",
        "plt.xlabel('# Epochs')\n",
        "sns.lineplot(data=data_his, linewidth=3.5)"
      ],
      "execution_count": 73,
      "outputs": [
        {
          "output_type": "execute_result",
          "data": {
            "text/plain": [
              "<matplotlib.axes._subplots.AxesSubplot at 0x7fdc8661e3d0>"
            ]
          },
          "metadata": {
            "tags": []
          },
          "execution_count": 73
        },
        {
          "output_type": "display_data",
          "data": {
            "image/png": "[encoded data removed]",
            "text/plain": [
              "<Figure size 1152x648 with 1 Axes>"
            ]
          },
          "metadata": {
            "tags": []
          }
        }
      ]
    }
  ]
}